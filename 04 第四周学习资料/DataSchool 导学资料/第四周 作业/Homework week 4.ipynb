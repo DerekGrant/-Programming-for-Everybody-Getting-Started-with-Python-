{
 "cells": [
  {
   "cell_type": "markdown",
   "metadata": {},
   "source": [
    "# 1.请修改下列循环，使其能够跳出死循环，并打印出0至9的数字\n",
    "## 请勿直接运行这部分代码，其中包含死循环，会让notebook持续运行，需要强行终止"
   ]
  },
  {
   "cell_type": "code",
   "execution_count": null,
   "metadata": {},
   "outputs": [],
   "source": [
    "num =0\n",
    "while (num<10):\n",
    "    print(num)\n",
    "    num -= 1"
   ]
  },
  {
   "cell_type": "markdown",
   "metadata": {},
   "source": [
    "# 2.请修改下列循环，使其能够运行循环体，避免死循环，并打印出9至0的数字"
   ]
  },
  {
   "cell_type": "code",
   "execution_count": 8,
   "metadata": {},
   "outputs": [],
   "source": [
    "num =10\n",
    "while (num>10):\n",
    "    print(num)\n",
    "    num -= 1"
   ]
  },
  {
   "cell_type": "markdown",
   "metadata": {},
   "source": [
    "# 3.请为下列循环添加条件判断和‘break’，使其能够跳出死循环，并打印出9至0的数字\n",
    "## 请勿直接运行这部分代码，其中包含死循环，会让notebook持续运行，需要强行终止"
   ]
  },
  {
   "cell_type": "code",
   "execution_count": null,
   "metadata": {},
   "outputs": [],
   "source": [
    "num =9\n",
    "while (num<10):\n",
    "    print(num)\n",
    "    num -= 1"
   ]
  },
  {
   "cell_type": "markdown",
   "metadata": {},
   "source": [
    "# 4. 请仅为下列代码加入‘continue’，以使程序仍然能够对偶数求和，但只打印出奇数"
   ]
  },
  {
   "cell_type": "code",
   "execution_count": 33,
   "metadata": {},
   "outputs": [
    {
     "name": "stdout",
     "output_type": "stream",
     "text": [
      "1\n",
      "2\n",
      "3\n",
      "4\n",
      "5\n",
      "6\n",
      "7\n",
      "8\n",
      "9\n",
      "10\n",
      "total is 30\n"
     ]
    }
   ],
   "source": [
    "total = 0\n",
    "num =0\n",
    "while (num<10):\n",
    "    num += 1\n",
    "    if (num%2 == 0):\n",
    "        total += num\n",
    "    print(num)\n",
    "\n",
    "print('total is',total)"
   ]
  },
  {
   "cell_type": "markdown",
   "metadata": {},
   "source": [
    "# 5.请使用for循环对13至100的数求和(tips: range())"
   ]
  },
  {
   "cell_type": "code",
   "execution_count": 39,
   "metadata": {},
   "outputs": [
    {
     "name": "stdout",
     "output_type": "stream",
     "text": [
      "total is 4972\n"
     ]
    }
   ],
   "source": [
    "total = 0\n",
    "\n",
    "    total += i\n",
    "print('total is',total)"
   ]
  },
  {
   "cell_type": "markdown",
   "metadata": {},
   "source": [
    "# 6.请使用for循环找出[43,45,72,73,43,123]中的最大数"
   ]
  },
  {
   "cell_type": "code",
   "execution_count": null,
   "metadata": {},
   "outputs": [],
   "source": [
    "l=[43,45,72,73,43,123]"
   ]
  },
  {
   "cell_type": "markdown",
   "metadata": {},
   "source": [
    "# 7.请打印出[43,45,72,73,43,123]中的奇数"
   ]
  },
  {
   "cell_type": "code",
   "execution_count": 35,
   "metadata": {},
   "outputs": [],
   "source": [
    "l=[43,45,72,73,43,123]"
   ]
  },
  {
   "cell_type": "markdown",
   "metadata": {},
   "source": [
    "# 8.请使用for循环将['43','45','str','72','73','43','123']中所有字符串转为数字并求平均，\n",
    "# 忽略不能转为数字的字符串。"
   ]
  },
  {
   "cell_type": "code",
   "execution_count": 43,
   "metadata": {},
   "outputs": [
    {
     "name": "stdout",
     "output_type": "stream",
     "text": [
      "399\n"
     ]
    }
   ],
   "source": [
    "total = 0\n",
    "\n",
    "print(total)\n",
    "        "
   ]
  }
 ],
 "metadata": {
  "kernelspec": {
   "display_name": "Python [default]",
   "language": "python",
   "name": "python3"
  },
  "language_info": {
   "codemirror_mode": {
    "name": "ipython",
    "version": 3
   },
   "file_extension": ".py",
   "mimetype": "text/x-python",
   "name": "python",
   "nbconvert_exporter": "python",
   "pygments_lexer": "ipython3",
   "version": "3.5.5"
  }
 },
 "nbformat": 4,
 "nbformat_minor": 2
}
