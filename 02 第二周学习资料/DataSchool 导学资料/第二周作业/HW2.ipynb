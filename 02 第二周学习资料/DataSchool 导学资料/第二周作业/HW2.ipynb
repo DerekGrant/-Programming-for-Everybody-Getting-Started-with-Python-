{
 "cells": [
  {
   "cell_type": "markdown",
   "metadata": {},
   "source": [
    "## 1. 打印出（3+6)^3+9/2 的结果 "
   ]
  },
  {
   "cell_type": "code",
   "execution_count": null,
   "metadata": {},
   "outputs": [],
   "source": []
  },
  {
   "cell_type": "markdown",
   "metadata": {},
   "source": [
    "## 2. 用type（）函数获取 'hello' , 123, 34.23 几个常量的数据类型。"
   ]
  },
  {
   "cell_type": "code",
   "execution_count": null,
   "metadata": {},
   "outputs": [],
   "source": []
  },
  {
   "cell_type": "markdown",
   "metadata": {},
   "source": [
    "## 3.自己随意写一段代码，然后加上注释"
   ]
  },
  {
   "cell_type": "code",
   "execution_count": null,
   "metadata": {},
   "outputs": [],
   "source": []
  },
  {
   "cell_type": "markdown",
   "metadata": {},
   "source": [
    "## 4.用input（）函数让用户输入一个数字，然后转为int类型，加上35，打印出结果"
   ]
  },
  {
   "cell_type": "code",
   "execution_count": null,
   "metadata": {},
   "outputs": [],
   "source": []
  },
  {
   "cell_type": "markdown",
   "metadata": {},
   "source": [
    "## 附： 获取美团数据的代码 （需先用安装requests和json库）"
   ]
  },
  {
   "cell_type": "code",
   "execution_count": 52,
   "metadata": {},
   "outputs": [],
   "source": [
    "import requests\n",
    "import json\n",
    "for i in range(32):\n",
    "    response = requests.get('https://apimobile.meituan.com/group/v4/poi/pcsearch/80?uuid=cb24e144f5194aa894a3.1542109988.1.0.0&userid=-1&limit=32&offset='+str(i*32)+'&cateId=-1&q=%E7%81%A')    \n",
    "    with open('huoguo.json', 'a', encoding = 'utf-8') as f:\n",
    "        json.dump(response.json(), f, ensure_ascii = False, indent = 2)"
   ]
  }
 ],
 "metadata": {
  "kernelspec": {
   "display_name": "Python [default]",
   "language": "python",
   "name": "python3"
  },
  "language_info": {
   "codemirror_mode": {
    "name": "ipython",
    "version": 3
   },
   "file_extension": ".py",
   "mimetype": "text/x-python",
   "name": "python",
   "nbconvert_exporter": "python",
   "pygments_lexer": "ipython3",
   "version": "3.5.5"
  }
 },
 "nbformat": 4,
 "nbformat_minor": 2
}
