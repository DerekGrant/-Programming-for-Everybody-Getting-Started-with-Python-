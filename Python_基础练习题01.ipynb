{
  "nbformat": 4,
  "nbformat_minor": 0,
  "metadata": {
    "colab": {
      "name": "Python 基础练习题.ipynb",
      "provenance": [],
      "collapsed_sections": []
    },
    "kernelspec": {
      "name": "python3",
      "display_name": "Python 3"
    },
    "language_info": {
      "name": "python"
    }
  },
  "cells": [
    {
      "cell_type": "code",
      "metadata": {
        "id": "FOGd65ITdTwl"
      },
      "source": [
        "给定字符串J 代表石头中宝石的类型，和字符串 S代表你拥有的石头。 S 中每个字符代表了一种你拥有的石头的类型，你想知道你拥有的石头中有多少是宝石。\n",
        "\n",
        "J 中的字母不重复，J 和 S中的所有字符都是字母。字母区分大小写，因此\"a\"和\"A\"是不同类型的石头。\n",
        "\n",
        "示例 1:\n",
        "\n",
        "输入: J = \"aA\", S = \"aAAbbbb\"\n",
        "输出: 3\n",
        "示例 2:\n",
        "\n",
        "输入: J = \"z\", S = \"ZZ\"\n",
        "输出: 0\n",
        "注意:\n",
        "\n",
        "S 和 J 最多含有50个字母。\n",
        " J 中的字符不重复。\n"
      ],
      "execution_count": null,
      "outputs": []
    },
    {
      "cell_type": "code",
      "metadata": {
        "id": "aopVFCSodjEB"
      },
      "source": [
        "def numJewelsInStones(self, jewels, stones):\n",
        "    \"\"\"\n",
        "    :type jewels: str\n",
        "    :type stones: str\n",
        "    :rtype: int\n",
        "    \"\"\""
      ],
      "execution_count": null,
      "outputs": []
    },
    {
      "cell_type": "code",
      "metadata": {
        "colab": {
          "base_uri": "https://localhost:8080/",
          "height": 0
        },
        "id": "MTsa-SwDe8UP",
        "outputId": "0121001b-ec64-4d5c-ea3f-052a7b189418"
      },
      "source": [
        "numJewelsInStones(\"aA\", \"aAAbbbb\")"
      ],
      "execution_count": 6,
      "outputs": [
        {
          "output_type": "execute_result",
          "data": {
            "text/plain": [
              "3"
            ]
          },
          "metadata": {
            "tags": []
          },
          "execution_count": 6
        }
      ]
    },
    {
      "cell_type": "code",
      "metadata": {
        "cellView": "form",
        "id": "Z_snGuUlfFFp"
      },
      "source": [
        "#@title Solution\n",
        "def numJewelsInStones(jewels, stones):\n",
        "    \"\"\"\n",
        "    :type jewels: str\n",
        "    :type stones: str\n",
        "    :rtype: int\n",
        "    \"\"\"\n",
        "    result = 0\n",
        "    for stone in stones:\n",
        "        if stone in jewels:\n",
        "            result += 1\n",
        "    return result"
      ],
      "execution_count": 9,
      "outputs": []
    },
    {
      "cell_type": "code",
      "metadata": {
        "id": "tqz6rNAmfhim"
      },
      "source": [
        "给你一个 m x n 的整数网格 accounts ，其中 accounts[i][j] 是第 i​​​​​​​​​​​​ 位客户在第 j 家银行托管的资产数量。返回最富有客户所拥有的 资产总量 。\n",
        "\n",
        "客户的 资产总量 就是他们在各家银行托管的资产数量之和。最富有客户就是 资产总量 最大的客户。\n",
        "\n",
        " \n",
        "\n",
        "示例 1：\n",
        "\n",
        "输入：accounts = [[1,2,3],[3,2,1]]\n",
        "输出：6\n",
        "解释：\n",
        "第 1 位客户的资产总量 = 1 + 2 + 3 = 6\n",
        "第 2 位客户的资产总量 = 3 + 2 + 1 = 6\n",
        "两位客户都是最富有的，资产总量都是 6 ，所以返回 6 。\n",
        "示例 2：\n",
        "\n",
        "输入：accounts = [[1,5],[7,3],[3,5]]\n",
        "输出：10\n",
        "解释：\n",
        "第 1 位客户的资产总量 = 6\n",
        "第 2 位客户的资产总量 = 10 \n",
        "第 3 位客户的资产总量 = 8\n",
        "第 2 位客户是最富有的，资产总量是 10\n",
        "示例 3：\n",
        "\n",
        "输入：accounts = [[2,8,7],[7,1,3],[1,9,5]]\n",
        "输出：17\n",
        " \n",
        "\n",
        "提示：\n",
        "\n",
        "m == accounts.length\n",
        "n == accounts[i].length\n",
        "1 <= m, n <= 50\n",
        "1 <= accounts[i][j] <= 100\n"
      ],
      "execution_count": null,
      "outputs": []
    },
    {
      "cell_type": "code",
      "metadata": {
        "id": "1LhKmPlBjmKw"
      },
      "source": [
        "def maximumWealth(accounts):\n",
        "  \"\"\"\n",
        "  :type accounts: List[List[int]]\n",
        "  :rtype: int\n",
        "  \"\"\""
      ],
      "execution_count": null,
      "outputs": []
    },
    {
      "cell_type": "code",
      "metadata": {
        "colab": {
          "base_uri": "https://localhost:8080/",
          "height": 0
        },
        "id": "q-lPNbAmgCbF",
        "outputId": "54728916-6a11-4a81-9048-faafa2722390"
      },
      "source": [
        "maximumWealth([[2,8,7],[7,1,3],[1,9,5]])"
      ],
      "execution_count": 12,
      "outputs": [
        {
          "output_type": "execute_result",
          "data": {
            "text/plain": [
              "17"
            ]
          },
          "metadata": {
            "tags": []
          },
          "execution_count": 12
        }
      ]
    },
    {
      "cell_type": "code",
      "metadata": {
        "cellView": "form",
        "id": "6Q9K-sG6gSVR"
      },
      "source": [
        "#@title Solution\n",
        "def maximumWealth(accounts):\n",
        "  \"\"\"\n",
        "  :type accounts: List[List[int]]\n",
        "  :rtype: int\n",
        "  \"\"\"\n",
        "  maxWealth = 0\n",
        "  for customer in accounts:\n",
        "      maxWealth = max(maxWealth,sum(customer))\n",
        "  return maxWealth"
      ],
      "execution_count": 11,
      "outputs": []
    },
    {
      "cell_type": "code",
      "metadata": {
        "id": "BByNpqdYjWee"
      },
      "source": [
        "给你一个整数数组 nums 。\n",
        "\n",
        "如果一组数字 (i,j) 满足 nums[i] == nums[j] 且 i < j ，就可以认为这是一组 好数对 。\n",
        "\n",
        "返回好数对的数目。\n",
        "\n",
        " \n",
        "\n",
        "示例 1：\n",
        "\n",
        "输入：nums = [1,2,3,1,1,3]\n",
        "输出：4\n",
        "解释：有 4 组好数对，分别是 (0,3), (0,4), (3,4), (2,5) ，下标从 0 开始\n",
        "示例 2：\n",
        "\n",
        "输入：nums = [1,1,1,1]\n",
        "输出：6\n",
        "解释：数组中的每组数字都是好数对\n",
        "示例 3：\n",
        "\n",
        "输入：nums = [1,2,3]\n",
        "输出：0\n",
        " \n",
        "\n",
        "提示：\n",
        "\n",
        "1 <= nums.length <= 100\n",
        "1 <= nums[i] <= 100"
      ],
      "execution_count": null,
      "outputs": []
    },
    {
      "cell_type": "code",
      "metadata": {
        "colab": {
          "base_uri": "https://localhost:8080/",
          "height": 0
        },
        "id": "LjF2sloRjdci",
        "outputId": "ca951b6e-f2c0-435e-d7b3-67c538c5db7c"
      },
      "source": [
        "numIdenticalPairs([1,2,3,1,1,3])"
      ],
      "execution_count": 14,
      "outputs": [
        {
          "output_type": "execute_result",
          "data": {
            "text/plain": [
              "4"
            ]
          },
          "metadata": {
            "tags": []
          },
          "execution_count": 14
        }
      ]
    },
    {
      "cell_type": "code",
      "metadata": {
        "cellView": "form",
        "id": "BjMJcH8DjMqH"
      },
      "source": [
        "#@title Solution\n",
        "\n",
        "def numIdenticalPairs(nums):\n",
        "    \"\"\"\n",
        "    :type nums: List[int]\n",
        "    :rtype: int\n",
        "    \"\"\"\n",
        "    result = 0\n",
        "    for i in range(len(nums)):\n",
        "        for j in range(i+1,len(nums)):\n",
        "            if nums[i] == nums[j]:\n",
        "                result += 1\n",
        "    return result"
      ],
      "execution_count": 13,
      "outputs": []
    },
    {
      "cell_type": "code",
      "metadata": {
        "id": "B5gMLA6mmZLb"
      },
      "source": [
        "给你一个数组 candies 和一个整数 extraCandies ，其中 candies[i] 代表第 i 个孩子拥有的糖果数目。\n",
        "\n",
        "对每一个孩子，检查是否存在一种方案，将额外的 extraCandies 个糖果分配给孩子们之后，此孩子有 最多 的糖果。注意，允许有多个孩子同时拥有 最多 的糖果数目。\n",
        "\n",
        " \n",
        "\n",
        "示例 1：\n",
        "\n",
        "输入：candies = [2,3,5,1,3], extraCandies = 3\n",
        "输出：[true,true,true,false,true] \n",
        "解释：\n",
        "孩子 1 有 2 个糖果，如果他得到所有额外的糖果（3个），那么他总共有 5 个糖果，他将成为拥有最多糖果的孩子。\n",
        "孩子 2 有 3 个糖果，如果他得到至少 2 个额外糖果，那么他将成为拥有最多糖果的孩子。\n",
        "孩子 3 有 5 个糖果，他已经是拥有最多糖果的孩子。\n",
        "孩子 4 有 1 个糖果，即使他得到所有额外的糖果，他也只有 4 个糖果，无法成为拥有糖果最多的孩子。\n",
        "孩子 5 有 3 个糖果，如果他得到至少 2 个额外糖果，那么他将成为拥有最多糖果的孩子。\n",
        "示例 2：\n",
        "\n",
        "输入：candies = [4,2,1,1,2], extraCandies = 1\n",
        "输出：[true,false,false,false,false] \n",
        "解释：只有 1 个额外糖果，所以不管额外糖果给谁，只有孩子 1 可以成为拥有糖果最多的孩子。\n",
        "示例 3：\n",
        "\n",
        "输入：candies = [12,1,12], extraCandies = 10\n",
        "输出：[true,false,true]\n",
        " \n",
        "\n",
        "提示：\n",
        "\n",
        "2 <= candies.length <= 100\n",
        "1 <= candies[i] <= 100\n",
        "1 <= extraCandies <= 50\n",
        "\n"
      ],
      "execution_count": null,
      "outputs": []
    },
    {
      "cell_type": "code",
      "metadata": {
        "id": "V3kQkeObmvhf"
      },
      "source": [
        "def kidsWithCandies(candies, extraCandies):\n",
        "    \"\"\"\n",
        "    :type candies: List[int]\n",
        "    :type extraCandies: int\n",
        "    :rtype: List[bool]\n",
        "    \"\"\""
      ],
      "execution_count": null,
      "outputs": []
    },
    {
      "cell_type": "code",
      "metadata": {
        "colab": {
          "base_uri": "https://localhost:8080/",
          "height": 0
        },
        "id": "A_PZoYfemand",
        "outputId": "77003f80-04b9-4311-9a8b-b79e0a1072d8"
      },
      "source": [
        "kidsWithCandies([2,3,5,1,3],3)"
      ],
      "execution_count": 25,
      "outputs": [
        {
          "output_type": "execute_result",
          "data": {
            "text/plain": [
              "[True, True, True, False, True]"
            ]
          },
          "metadata": {
            "tags": []
          },
          "execution_count": 25
        }
      ]
    },
    {
      "cell_type": "code",
      "metadata": {
        "cellView": "form",
        "id": "pX-J4RTHky_m"
      },
      "source": [
        "#@title Solution\n",
        "\n",
        "def kidsWithCandies( candies, extraCandies):\n",
        "    \"\"\"\n",
        "    :type candies: List[int]\n",
        "    :type extraCandies: int\n",
        "    :rtype: List[bool]\n",
        "    \"\"\"\n",
        "    return [True if candyNum+extraCandies >= max(candies) else False for candyNum in candies ]"
      ],
      "execution_count": 24,
      "outputs": []
    }
  ]
}